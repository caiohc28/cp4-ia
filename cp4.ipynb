{
  "nbformat": 4,
  "nbformat_minor": 0,
  "metadata": {
    "colab": {
      "provenance": [],
      "authorship_tag": "ABX9TyPHEafjCAxFPBfGkgx46WvM",
      "include_colab_link": true
    },
    "kernelspec": {
      "name": "python3",
      "display_name": "Python 3"
    },
    "language_info": {
      "name": "python"
    }
  },
  "cells": [
    {
      "cell_type": "markdown",
      "metadata": {
        "id": "view-in-github",
        "colab_type": "text"
      },
      "source": [
        "<a href=\"https://colab.research.google.com/github/caiohc28/cp4-ia/blob/main/cp4.ipynb\" target=\"_parent\"><img src=\"https://colab.research.google.com/assets/colab-badge.svg\" alt=\"Open In Colab\"/></a>"
      ]
    },
    {
      "cell_type": "markdown",
      "source": [
        "# **IMPORTACAO**"
      ],
      "metadata": {
        "id": "ZCILuIL4jRj9"
      }
    },
    {
      "cell_type": "code",
      "source": [
        "import pandas as pd"
      ],
      "metadata": {
        "id": "7xX7HxmxjWPb"
      },
      "execution_count": 1,
      "outputs": []
    },
    {
      "cell_type": "markdown",
      "source": [
        "# **EXERCICIO 1**\n",
        "\n"
      ],
      "metadata": {
        "id": "gByrjz-QiYPb"
      }
    },
    {
      "cell_type": "code",
      "execution_count": 2,
      "metadata": {
        "id": "hZ-p5Upyf6hQ",
        "outputId": "fe85175c-db6b-4a80-c21a-e35971daf21e",
        "colab": {
          "base_uri": "https://localhost:8080/"
        }
      },
      "outputs": [
        {
          "output_type": "stream",
          "name": "stdout",
          "text": [
            "  Date;Time;Global_active_power;Global_reactive_power;Voltage;Global_intensity;Sub_metering_1;Sub_metering_2;Sub_metering_3\n",
            "0  16/12/2006;17:24:00;4.216;0.418;234.840;18.400...                                                                       \n",
            "1  16/12/2006;17:25:00;5.360;0.436;233.630;23.000...                                                                       \n",
            "2  16/12/2006;17:26:00;5.374;0.498;233.290;23.000...                                                                       \n",
            "3  16/12/2006;17:27:00;5.388;0.502;233.740;23.000...                                                                       \n",
            "4  16/12/2006;17:28:00;3.666;0.528;235.680;15.800...                                                                       \n",
            "5  16/12/2006;17:29:00;3.520;0.522;235.020;15.000...                                                                       \n",
            "6  16/12/2006;17:30:00;3.702;0.520;235.090;15.800...                                                                       \n",
            "7  16/12/2006;17:31:00;3.700;0.520;235.220;15.800...                                                                       \n",
            "8  16/12/2006;17:32:00;3.668;0.510;233.990;15.800...                                                                       \n",
            "9  16/12/2006;17:33:00;3.662;0.510;233.860;15.800...                                                                       \n"
          ]
        }
      ],
      "source": [
        "df = pd.read_csv('/content/household_power_consumption.txt')\n",
        "print(df.head(10))"
      ]
    },
    {
      "cell_type": "markdown",
      "source": [
        "# **EXERCICIO 2**"
      ],
      "metadata": {
        "id": "FzNauAGuiZhq"
      }
    },
    {
      "cell_type": "code",
      "source": [],
      "metadata": {
        "id": "cAWEc_NniaVC"
      },
      "execution_count": null,
      "outputs": []
    },
    {
      "cell_type": "markdown",
      "source": [
        "# **EXERCICIO 3**"
      ],
      "metadata": {
        "id": "51INWlj-iau6"
      }
    },
    {
      "cell_type": "code",
      "source": [],
      "metadata": {
        "id": "HOpMq8O9ibQ6"
      },
      "execution_count": null,
      "outputs": []
    },
    {
      "cell_type": "markdown",
      "source": [
        "# **EXERCICIO 4**"
      ],
      "metadata": {
        "id": "lbRpdrfdibfi"
      }
    },
    {
      "cell_type": "code",
      "source": [],
      "metadata": {
        "id": "kzm8SA2vibvS"
      },
      "execution_count": null,
      "outputs": []
    },
    {
      "cell_type": "markdown",
      "source": [
        "# **EXERCICIO 5**"
      ],
      "metadata": {
        "id": "K92kQynGib-K"
      }
    },
    {
      "cell_type": "code",
      "source": [],
      "metadata": {
        "id": "_9gqRZQaiccS"
      },
      "execution_count": null,
      "outputs": []
    },
    {
      "cell_type": "markdown",
      "source": [
        "# **EXERCICIO 6**"
      ],
      "metadata": {
        "id": "Ra4BdaGcic06"
      }
    },
    {
      "cell_type": "code",
      "source": [],
      "metadata": {
        "id": "vERQ6xlgidNy"
      },
      "execution_count": null,
      "outputs": []
    },
    {
      "cell_type": "markdown",
      "source": [
        "# **EXERCICIO 7**"
      ],
      "metadata": {
        "id": "YkeblwcNidwK"
      }
    },
    {
      "cell_type": "code",
      "source": [],
      "metadata": {
        "id": "IFeusTDyieEy"
      },
      "execution_count": null,
      "outputs": []
    },
    {
      "cell_type": "markdown",
      "source": [
        "# **EXERCICIO 8**"
      ],
      "metadata": {
        "id": "GtSxSvhEieWi"
      }
    },
    {
      "cell_type": "code",
      "source": [],
      "metadata": {
        "id": "to7sU1LYiejy"
      },
      "execution_count": null,
      "outputs": []
    },
    {
      "cell_type": "markdown",
      "source": [
        "# **EXERCICIO 9**"
      ],
      "metadata": {
        "id": "IRGSRkj8iewS"
      }
    },
    {
      "cell_type": "code",
      "source": [],
      "metadata": {
        "id": "9J6Yo0LHifMy"
      },
      "execution_count": null,
      "outputs": []
    },
    {
      "cell_type": "markdown",
      "source": [
        "# **EXERCICIO 10**"
      ],
      "metadata": {
        "id": "_O2QhhLXigti"
      }
    },
    {
      "cell_type": "code",
      "source": [],
      "metadata": {
        "id": "Pcjfz-5IihAa"
      },
      "execution_count": null,
      "outputs": []
    },
    {
      "cell_type": "markdown",
      "source": [],
      "metadata": {
        "id": "vKiDgQ-Bihka"
      }
    },
    {
      "cell_type": "code",
      "source": [],
      "metadata": {
        "id": "s-4cSM34ihv6"
      },
      "execution_count": null,
      "outputs": []
    },
    {
      "cell_type": "markdown",
      "source": [],
      "metadata": {
        "id": "YPqZNQazih8x"
      }
    },
    {
      "cell_type": "code",
      "source": [],
      "metadata": {
        "id": "PW601kz8iiHa"
      },
      "execution_count": null,
      "outputs": []
    },
    {
      "cell_type": "markdown",
      "source": [],
      "metadata": {
        "id": "_iHJozn-iiRa"
      }
    },
    {
      "cell_type": "code",
      "source": [],
      "metadata": {
        "id": "cXC6k3Z7iigq"
      },
      "execution_count": null,
      "outputs": []
    },
    {
      "cell_type": "markdown",
      "source": [],
      "metadata": {
        "id": "aLDmSc6Iij47"
      }
    },
    {
      "cell_type": "code",
      "source": [],
      "metadata": {
        "id": "yR5Mi0n9ikLK"
      },
      "execution_count": null,
      "outputs": []
    },
    {
      "cell_type": "markdown",
      "source": [],
      "metadata": {
        "id": "UHXdZqENiku6"
      }
    },
    {
      "cell_type": "code",
      "source": [],
      "metadata": {
        "id": "tkUGcG2Hik86"
      },
      "execution_count": null,
      "outputs": []
    },
    {
      "cell_type": "markdown",
      "source": [],
      "metadata": {
        "id": "mgp8wSp6ilIi"
      }
    },
    {
      "cell_type": "code",
      "source": [],
      "metadata": {
        "id": "rrOSAttIilYC"
      },
      "execution_count": null,
      "outputs": []
    },
    {
      "cell_type": "markdown",
      "source": [],
      "metadata": {
        "id": "eWqdZiuyilpq"
      }
    },
    {
      "cell_type": "code",
      "source": [],
      "metadata": {
        "id": "5OikYra6il8S"
      },
      "execution_count": null,
      "outputs": []
    },
    {
      "cell_type": "markdown",
      "source": [],
      "metadata": {
        "id": "tDZpojIiimXi"
      }
    },
    {
      "cell_type": "code",
      "source": [],
      "metadata": {
        "id": "QK42fIu2imni"
      },
      "execution_count": null,
      "outputs": []
    },
    {
      "cell_type": "markdown",
      "source": [],
      "metadata": {
        "id": "8IkAnmdvim3a"
      }
    },
    {
      "cell_type": "code",
      "source": [],
      "metadata": {
        "id": "itFmyBbbinE6"
      },
      "execution_count": null,
      "outputs": []
    },
    {
      "cell_type": "markdown",
      "source": [],
      "metadata": {
        "id": "AThOHVdYinRi"
      }
    },
    {
      "cell_type": "code",
      "source": [],
      "metadata": {
        "id": "Y3Ls4utQinrC"
      },
      "execution_count": null,
      "outputs": []
    }
  ]
}